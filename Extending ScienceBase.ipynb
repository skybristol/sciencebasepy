{
 "cells": [
  {
   "cell_type": "markdown",
   "metadata": {},
   "source": [
    "One of the things that we've not done a whole lot of work with in ScienceBase are web links. ScienceBase Catalog (the main store of metadata items) essentially provides two main routes of getting at data that the items are documenting - files and links. Some links are housed in specific extensions (facets) on the items that are generated in a particular structured way (e.g., when a process is triggered to create geospatial services from spatial data files). Other links are housed in the webLinks container. The webLinks structure has been left very open to all kinds of things being added, and the current vocabulary defining web link types is a pretty big mix of concepts that are not all particularly well defined or semantically aligned.\n",
    "\n",
    "In an attempt to start developing methods for treating web links a little more seriously in the ScienceBase model, I've introduced an idea for a new module that will handle some functionality that I've been developing for a particular use case where I needed to track down further structured information behind the models. I put this off in its own module outside \"SbSession\" because it is really quite different code and functionality from what has been in that core module and class for some time. However, it seems like it would be valuable to build on additional functionality into the sciencebasepy package itself rather than sequestering it off somewhere else.\n",
    "\n",
    "The first thing I've worked up here is a set of functions to examine link responses to extract as much structured information from those links as possible to help better characterize them for use. I've employed several specific strategies that essentially generate an additional \"annotation\" object for the ScienceBase Item web link structure. To build the annotation, we try a number of strategies to pull together useful information about what's behind the links to help with a variety of applications.\n",
    "\n",
    "* At a minimum, we check that a link returns some kind of response and record the date and time of the check. In this way, the process can act as a simple link checker.\n",
    "* In seeking a response, we send in a couple of options in an Accept header to try for content negotiation. In some cases, this can net a structured JSON or XML response from the URL that we can potentially do something interesting with.\n",
    "* If we get an HTML type of response, I run two processes to try for structured metadata - an old style named meta tag extraction routine and a \"new style\" approach using the extruct package from the ScrapingHub project to check for structured metadata in several formats (JSON-LD, Microdata, etc.).\n",
    "* If we get an XML response with content negotiation, I use the gis-metadata-parser package to see if it is in a discernible GIS metadata format (FGDC CSDGM, ISO19139, Esri-ArcGIS) and pull out high level properties into a summary structure.\n",
    "* If we get a JSON response with content negotiation, right now, I'm just shoving it into its own object. In future, we would want to compare that to known patterns of interest with something like a JSON Schema approach to pull together useful summary information about what's behind the link."
   ]
  },
  {
   "cell_type": "code",
   "execution_count": 1,
   "metadata": {},
   "outputs": [],
   "source": [
    "from sciencebasepy import Weblinks\n",
    "from IPython.display import display"
   ]
  },
  {
   "cell_type": "markdown",
   "metadata": {},
   "source": [
    "Lots more work to do here eventualy. Right now, I'm only instantiating a non-authenticated SbSession() and working with public items. The code is not all that well documented yet, and I haven't written any tests for the new module."
   ]
  },
  {
   "cell_type": "code",
   "execution_count": 2,
   "metadata": {},
   "outputs": [],
   "source": [
    "sb_wl = Weblinks()"
   ]
  },
  {
   "cell_type": "markdown",
   "metadata": {},
   "source": [
    "There are lots of different ways that a process like this might be launched in terms of where and how to get what links from ScienceBase Items to operate against. I created a simple fetch_web_links function to take an item ID with possible parameters for link type and link title. We have ended up using link title quite a bit in our work to classify particular types of links or declare their function in context to the item. We've done this mostly because the controlled vocabulary for web link types is not all that controlled as yet."
   ]
  },
  {
   "cell_type": "code",
   "execution_count": 3,
   "metadata": {},
   "outputs": [],
   "source": [
    "web_links = sb_wl.fetch_web_links('5e8de97682cee42d134687ce')"
   ]
  },
  {
   "cell_type": "markdown",
   "metadata": {},
   "source": [
    "The fetch_web_links function spits out a simplified ScienceBase item model with just the webLinks list because that's all we're concerned with at this point."
   ]
  },
  {
   "cell_type": "code",
   "execution_count": 4,
   "metadata": {},
   "outputs": [
    {
     "data": {
      "text/plain": [
       "{'id': '5e8de97682cee42d134687ce',\n",
       " 'webLinks': [{'type': 'webLink',\n",
       "   'typeLabel': 'Web Link',\n",
       "   'uri': 'https://water.usgs.gov/ogw/bgas/1dtemppro/',\n",
       "   'rel': 'related',\n",
       "   'title': 'Model Reference Link',\n",
       "   'hidden': False},\n",
       "  {'type': 'webLink',\n",
       "   'typeLabel': 'Web Link',\n",
       "   'uri': 'https://doi.org/10.5066/P9Q8JGAO',\n",
       "   'rel': 'related',\n",
       "   'title': 'Model Output Data',\n",
       "   'hidden': False}]}"
      ]
     },
     "execution_count": 4,
     "metadata": {},
     "output_type": "execute_result"
    }
   ],
   "source": [
    "web_links"
   ]
  },
  {
   "cell_type": "markdown",
   "metadata": {},
   "source": [
    "We can either run one webLink object through at a time or process a whole list. Conceivably, we could put together a giant list of links from multiple items and run all those through. Before this goes too much further, though, we need to think through some of the dynamics of what amounts to web crawling/scraping in terms of scalability and web family politeness. We definitely want to keep our system from running amok with making a ton of requests to \"foreign\" web addresses, and we'll probably want to tweak settings on things like user agent advertising, honoring robot blockers, and that sort of thing."
   ]
  },
  {
   "cell_type": "code",
   "execution_count": 5,
   "metadata": {},
   "outputs": [
    {
     "data": {
      "text/plain": [
       "[{'type': 'webLink',\n",
       "  'typeLabel': 'Web Link',\n",
       "  'uri': 'https://water.usgs.gov/ogw/bgas/1dtemppro/',\n",
       "  'rel': 'related',\n",
       "  'title': 'Model Reference Link',\n",
       "  'hidden': False,\n",
       "  'annotation': {'link_check_date': '2020-04-29T16:36:51.892785',\n",
       "   'content_type': 'html',\n",
       "   'status_code': 200,\n",
       "   'headers': {'Date': 'Wed, 29 Apr 2020 16:36:52 GMT', 'Strict-Transport-Security': 'max-age=31536000; preload;', 'Accept-Ranges': 'bytes', 'P3P': 'CP=\"NON DSP LAW CUR ADMa DEVa OUR STA COM NAV PHY ONL\", policyref=\"/w3c/p3p.xml\"', 'pics-label': '(pics-1.1 \"http://www.icra.org/pics/vocabularyv03/\" l gen true for \"https://water.usgs.gov\" r (n 0 s 0 v 0 l 0 oa 0 ob 0 oc 0 od 0 oe 0 of 0 og 0 oh 0 c 0) gen true for \"http://www.water.usgs.gov\" r (n 0 s 0 v 0 l 0 oa 0 ob 0 oc 0 od 0 oe 0 of 0 og 0 oh 0 c 0))', 'Link': '</labels.rdf>; /=\"/\"; rel=\"meta\" type=\"application/rdf+xml\"; title=\"ICRA labels\";', 'X-Frame-Options': 'ALLOW-FROM https://usgs.maps.arcgis.com/', 'Keep-Alive': 'timeout=3, max=476', 'Connection': 'Keep-Alive', 'Transfer-Encoding': 'chunked', 'Content-Type': 'text/html'},\n",
       "   'encoding': 'ISO-8859-1',\n",
       "   'meta_content': {'title': '1DTempPro',\n",
       "    '': 'text/html; charset=iso-8859-1',\n",
       "    'description': 'USGS 1DTempPro is a computer program for analysis of vertical one-dimensional (1D) temperature profiles',\n",
       "    'keywords': 'USGS Office of Groundwater Branch of Geophysics applied environmental shallow near surface borehole water-borne geophysics geophysical 1DTempPro computer program vertical one-dimensional 1D temperature profile heat thermal software',\n",
       "    'author': 'USGS - U.S. Geological Survey, Office of Groundwater, Branch of Geophysics',\n",
       "    'publisher': 'USGS - U.S. Geological Survey Hydrogeophysics Branch',\n",
       "    'abstract': 'A new version of the computer program 1DTempPro extends the original code to include new capabilities for (1) automated parameter estimation, (2) layer heterogeneity, and (3) time-varying specific discharge. The code serves as an interface to the U.S. Geological Survey model VS2DH and supports analysis of vertical one-dimensional temperature profiles under saturated flow conditions to assess groundwater/surface-water exchange and estimate hydraulic conductivity for cases where hydraulic head is known.',\n",
       "    'expires': 'NEVER',\n",
       "    'created': '2013-04-02',\n",
       "    'revised': '2018-01-25',\n",
       "    'last_reviewed': '2018-01-25',\n",
       "    'url': 'http://water.usgs.gov/ogw/bgas/1dtemppro/',\n",
       "    'summary': 'A graphical software package to visually calibrate one-dimensional VS2DH models against measured data, and estimate vertical groundwater/surface-water exchange.',\n",
       "    'version': '2.0',\n",
       "    'os': 'WIN',\n",
       "    'category': 'groundwater:10_flow-trans-chem,groundwater:50_gui-and-postproc',\n",
       "    'lastupdated': '2015/07/23'},\n",
       "   'structured_data': {'microdata': [],\n",
       "    'json-ld': [],\n",
       "    'opengraph': [],\n",
       "    'microformat': [],\n",
       "    'rdfa': []}}},\n",
       " {'type': 'webLink',\n",
       "  'typeLabel': 'Web Link',\n",
       "  'uri': 'https://doi.org/10.5066/P9Q8JGAO',\n",
       "  'rel': 'related',\n",
       "  'title': 'Model Output Data',\n",
       "  'hidden': False,\n",
       "  'annotation': {'link_check_date': '2020-04-29T16:36:52.830268',\n",
       "   'content_type': 'xml',\n",
       "   'status_code': 200,\n",
       "   'headers': {'Date': 'Wed, 29 Apr 2020 16:36:54 GMT', 'Strict-Transport-Security': 'max-age=31536000; preload;', 'Last-Modified': 'Fri, 08 Nov 2019 13:34:43 GMT', 'ETag': '\"3c2a-596d5d83362c0\"', 'Accept-Ranges': 'bytes', 'P3P': 'CP=\"NON DSP LAW CUR ADMa DEVa OUR STA COM NAV PHY ONL\", policyref=\"/w3c/p3p.xml\"', 'pics-label': '(pics-1.1 \"http://www.icra.org/pics/vocabularyv03/\" l gen true for \"https://water.usgs.gov\" r (n 0 s 0 v 0 l 0 oa 0 ob 0 oc 0 od 0 oe 0 of 0 og 0 oh 0 c 0) gen true for \"http://www.water.usgs.gov\" r (n 0 s 0 v 0 l 0 oa 0 ob 0 oc 0 od 0 oe 0 of 0 og 0 oh 0 c 0))', 'Link': '</labels.rdf>; /=\"/\"; rel=\"meta\" type=\"application/rdf+xml\"; title=\"ICRA labels\";', 'X-Frame-Options': 'ALLOW-FROM https://usgs.maps.arcgis.com/', 'Keep-Alive': 'timeout=3, max=486', 'Connection': 'Keep-Alive', 'Content-Type': 'text/xml', 'Transfer-Encoding': 'chunked'},\n",
       "   'encoding': 'ISO-8859-1',\n",
       "   'xml_meta_summary': {'title': 'Model Data Sets for 1DTempPro and VFLUX simulation experiments to Determine Groundwater Seepage in the Indian River Lagoon, Florida',\n",
       "    'abstract': 'A series of vertical arrays of temperature sensor were placed in the bed of Indian River Lagoon \\nto measure temperature time series for the vertical profile. These data were used in two \\nnumerical models, 1DTempPro and VFLUX, to estimate seepage flux rates into the lagoon.',\n",
       "    'place_keywords': ['Florida',\n",
       "     'Anstasia Formation',\n",
       "     'Eau Gallie',\n",
       "     'Brevard County'],\n",
       "    'thematic_keywords': ['1DTempPro',\n",
       "     'VFLUX',\n",
       "     'Groundwater',\n",
       "     'Heatflow',\n",
       "     'groundwater and surface-water interaction',\n",
       "     'geoscientificInformation',\n",
       "     'inlandWaters',\n",
       "     'environment'],\n",
       "    'attributes': [{'label': 'Area',\n",
       "      'aliases': '',\n",
       "      'definition': 'Text string indicating the area including locations where temperature profile measurements were used to compute seepage flux.',\n",
       "      'definition_source': 'https://doi.org/10.3133/ofr20181151'}],\n",
       "    'bounding_box': {'east': '-80.61889',\n",
       "     'south': '28.115034',\n",
       "     'west': '-80.620432',\n",
       "     'north': '28.116509'},\n",
       "    'contacts': [{'name': 'Eric D. Swain',\n",
       "      'email': 'edswain@usgs.gov',\n",
       "      'organization': 'U.S. Geological Survey',\n",
       "      'position': ''}],\n",
       "    'dates': {'type': 'range', 'values': ['20170324', '20171103']},\n",
       "    'digital_forms': [{'name': 'ReadmeMain.txt',\n",
       "      'content': 'This ASCII text file describes the model data release. This file also includes descriptions of the model input and output files and instructions on how to run the models contained in this data release.',\n",
       "      'decompression': '',\n",
       "      'version': '1.0',\n",
       "      'specification': 'ASCII text file',\n",
       "      'access_desc': '',\n",
       "      'access_instrs': '',\n",
       "      'network_resource': 'https://water.usgs.gov/GIS/dsdl/gwmodels/OFR2018-1151/ReadmeMain.txt'},\n",
       "     {'name': 'modelgeoref.txt',\n",
       "      'content': 'This ASCII text file defines the four corners of the model domain in decimal degrees.',\n",
       "      'decompression': '',\n",
       "      'version': '1.0',\n",
       "      'specification': 'ASCII text file',\n",
       "      'access_desc': '',\n",
       "      'access_instrs': '',\n",
       "      'network_resource': 'https://water.usgs.gov/GIS/dsdl/gwmodels/OFR2018-1151/modelgeoref.txt'},\n",
       "     {'name': 'ancillary.zip',\n",
       "      'content': 'This ZIP file contains ancillary data with an Arcinfo shape file EauGallie_Locations.shp showing the locations of all the temperature profile measurement sites.',\n",
       "      'decompression': '',\n",
       "      'version': '1.1 data updated 03/22/2016',\n",
       "      'specification': 'ZIP',\n",
       "      'access_desc': '',\n",
       "      'access_instrs': '',\n",
       "      'network_resource': 'https://water.usgs.gov/GIS/dsdl/gwmodels/OFR2018-1151/ancillary.zip'},\n",
       "     {'name': 'bin.zip',\n",
       "      'content': 'ZIP file containing the executable and code for the 1DTempPro model',\n",
       "      'decompression': '',\n",
       "      'version': '1.0',\n",
       "      'specification': 'ZIP file',\n",
       "      'access_desc': '',\n",
       "      'access_instrs': '',\n",
       "      'network_resource': 'https://water.usgs.gov/GIS/dsdl/gwmodels/OFR2018-1151/bin.zip'},\n",
       "     {'name': 'georef.zip',\n",
       "      'content': 'ZIP file containing a shapefile which defines the extent of the model study area.',\n",
       "      'decompression': '',\n",
       "      'version': '1.0',\n",
       "      'specification': 'ZIP file',\n",
       "      'access_desc': '',\n",
       "      'access_instrs': '',\n",
       "      'network_resource': 'https://water.usgs.gov/GIS/dsdl/gwmodels/OFR2018-1151/georef.zip'},\n",
       "     {'name': 'model.zip',\n",
       "      'content': 'This ZIP file contains the input files for the 1DTempPro and VFLUX simulations in separate directories.',\n",
       "      'decompression': '',\n",
       "      'version': '1.0',\n",
       "      'specification': 'ZIP file',\n",
       "      'access_desc': '',\n",
       "      'access_instrs': '',\n",
       "      'network_resource': 'https://water.usgs.gov/GIS/dsdl/gwmodels/OFR2018-1151/model.zip'},\n",
       "     {'name': 'output.zip',\n",
       "      'content': 'This ZIP file contains the output files for the 1DTempPro and VFLUX simulations in separate directories.',\n",
       "      'decompression': '',\n",
       "      'version': '1.0',\n",
       "      'specification': 'ZIP file',\n",
       "      'access_desc': '',\n",
       "      'access_instrs': '',\n",
       "      'network_resource': 'https://water.usgs.gov/GIS/dsdl/gwmodels/OFR2018-1151/output.zip'},\n",
       "     {'name': 'source.zip',\n",
       "      'content': 'This ZIP file contains the executable, code, and libraries for the 1DTempPro and VFLUX models in separate directories.',\n",
       "      'decompression': '',\n",
       "      'version': '1.0',\n",
       "      'specification': 'ZIP file',\n",
       "      'access_desc': '',\n",
       "      'access_instrs': '',\n",
       "      'network_resource': 'https://water.usgs.gov/GIS/dsdl/gwmodels/OFR2018-1151/source.zip'}],\n",
       "    'larger_works': {'title': 'Using Heat as a Tracer to Determine Groundwater Seepage in the Indian River Lagoon, Florida, April â\\x80\\x93 November 2017',\n",
       "     'edition': '',\n",
       "     'origin': ['Eric D. Swain', 'Scott T. Prinos'],\n",
       "     'online_linkage': 'https://doi.org/10.3133/ofr20181151',\n",
       "     'other_citation': '',\n",
       "     'publish_date': '2018',\n",
       "     'publish_place': 'Reston, VA, USA',\n",
       "     'publish_info': 'U.S. Geological Survey'},\n",
       "    'process_steps': [{'description': 'The process used to develop, paramterize, and apply the 1dTempPro and VFLUX models is fully described \\nin the model documentation report (https://doi.org/10.3133/ofr20181151).',\n",
       "      'date': '2018',\n",
       "      'sources': []}],\n",
       "    'raster_info': {'dimensions': 'pixel',\n",
       "     'row_count': '',\n",
       "     'column_count': '',\n",
       "     'vertical_count': '',\n",
       "     'x_resolution': '10.0',\n",
       "     'y_resolution': '10.0'}}}}]"
      ]
     },
     "execution_count": 5,
     "metadata": {},
     "output_type": "execute_result"
    }
   ],
   "source": [
    "sb_wl.process_web_links(web_links[\"webLinks\"])"
   ]
  },
  {
   "cell_type": "markdown",
   "metadata": {},
   "source": [
    "From here, the question becomes what to do with this information. From the general ScienceBase perspective, it might be interesting to set something up to run this routinely and at least check status of every link in the system. A simple broken link report might be useful for content owners. The information pulled together about the things Items link to is ultimately meaningful in some context, and that's where more structured link type classification would be useful.\n",
    "\n",
    "The motivating use case I'm exploring is for links associated with items describing models in ScienceBase where I am looking to round out the information that is being associated with a model. In that case, we're going to end up with things like links to model input and output data, web sites describing models and model projects, publications about the models, source code for the models, and others. Structured metadata coming from each of those sources is useful at different levels. It would, however, be useful to have the ability to pull all of this information into the ScienceBase search index in some way to aid in discovering models via some part of their related information. This same basic \"expanding the search index pool\" idea is likely useful for other use cases as well."
   ]
  },
  {
   "cell_type": "code",
   "execution_count": null,
   "metadata": {},
   "outputs": [],
   "source": []
  }
 ],
 "metadata": {
  "kernelspec": {
   "display_name": "Python 3",
   "language": "python",
   "name": "python3"
  },
  "language_info": {
   "codemirror_mode": {
    "name": "ipython",
    "version": 3
   },
   "file_extension": ".py",
   "mimetype": "text/x-python",
   "name": "python",
   "nbconvert_exporter": "python",
   "pygments_lexer": "ipython3",
   "version": "3.7.6"
  }
 },
 "nbformat": 4,
 "nbformat_minor": 4
}
